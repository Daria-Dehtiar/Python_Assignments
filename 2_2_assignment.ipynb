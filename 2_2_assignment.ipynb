{
  "cells": [
    {
      "cell_type": "markdown",
      "metadata": {
        "id": "-89_Z_je0cfL"
      },
      "source": [
        "# Assignment 2.2\n",
        "\n",
        "> Replace all TODOs with your code.\n",
        ">\n",
        "> Do not change any other code and do not add/remove cells!"
      ]
    },
    {
      "cell_type": "markdown",
      "metadata": {
        "id": "w6E-GxTB0j4M"
      },
      "source": [
        "## For-loop"
      ]
    },
    {
      "cell_type": "markdown",
      "metadata": {
        "id": "iEwuf_DP0cfM"
      },
      "source": [
        "### Task 1\n",
        "\n",
        "Write a program that prints the numbers from `a` to `b` using for loop."
      ]
    },
    {
      "cell_type": "code",
      "execution_count": null,
      "metadata": {
        "colab": {
          "base_uri": "https://localhost:8080/"
        },
        "id": "IWVOCWxx0cfM",
        "outputId": "ac967ce6-f39e-4234-9e73-01f5b94294e0"
      },
      "outputs": [
        {
          "name": "stdout",
          "output_type": "stream",
          "text": [
            "1\n",
            "2\n",
            "3\n",
            "4\n",
            "5\n"
          ]
        }
      ],
      "source": [
        "a = 1\n",
        "b = 5\n",
        "\n",
        "for i in range(a, b +1):\n",
        "    print(i)\n",
        "\n",
        "# should print 1 2 3 4 5"
      ]
    },
    {
      "cell_type": "markdown",
      "metadata": {
        "id": "mZydlWw_0wzt"
      },
      "source": [
        "## Functions"
      ]
    },
    {
      "cell_type": "markdown",
      "metadata": {
        "id": "2z8HqsaK0cfN"
      },
      "source": [
        "### Task 2\n",
        "\n",
        "Create a function called `is_prime` that takes a number as a parameter, returns `True` if the number is prime, and `False` otherwise."
      ]
    },
    {
      "cell_type": "code",
      "execution_count": 3,
      "metadata": {
        "colab": {
          "base_uri": "https://localhost:8080/"
        },
        "id": "kva_9ycA0cfN",
        "outputId": "1dc51124-da28-4424-a921-4b80a8221d9c"
      },
      "outputs": [
        {
          "output_type": "stream",
          "name": "stdout",
          "text": [
            "Is 11 a prime? True\n",
            "Is 9 a prime? False\n"
          ]
        }
      ],
      "source": [
        "def is_prime(num):\n",
        "    if num <= 1:\n",
        "        return False\n",
        "    else:\n",
        "        for i in range(2, int((num**0.5)+1)):\n",
        "            if num % i == 0:\n",
        "                return False\n",
        "    return True\n",
        "\n",
        "print('Is 11 a prime?', is_prime(11))  # should be True\n",
        "print('Is 9 a prime?', is_prime(9))  # should be False"
      ]
    },
    {
      "cell_type": "markdown",
      "metadata": {
        "id": "IqjW7SGS0cfN"
      },
      "source": [
        "### Task 3\n",
        "\n",
        "Write a function called `find_primes` that takes two integers, `a` and `b`, and prints all the prime numbers between `a` and `b` (inclusive).\n",
        "\n",
        "You can use the function from the previous exercise."
      ]
    },
    {
      "cell_type": "code",
      "execution_count": null,
      "metadata": {
        "id": "p83RQvA40cfN",
        "colab": {
          "base_uri": "https://localhost:8080/"
        },
        "outputId": "fb1eeab3-65d9-434b-e62f-eb2091367b2e"
      },
      "outputs": [
        {
          "output_type": "stream",
          "name": "stdout",
          "text": [
            "2\n",
            "3\n",
            "5\n",
            "7\n",
            "11\n"
          ]
        }
      ],
      "source": [
        "def find_primes(first_arg: int, second_arg: int):\n",
        "    for i in range(first_arg, second_arg + 1):\n",
        "        if i == 1:\n",
        "            continue\n",
        "        is_prime = True\n",
        "        for j in range(2, int((i**0.5)+1)):\n",
        "                if i % j == 0:\n",
        "                    is_prime = False\n",
        "                    break\n",
        "        if is_prime == True:\n",
        "            print(i)\n",
        "\n",
        "find_primes(1, 11)  # should print 2 3 5 7 11"
      ]
    },
    {
      "cell_type": "markdown",
      "metadata": {
        "id": "fceBNTpUnip6"
      },
      "source": [
        "### Task 4\n",
        "\n",
        "Write a function called `reverse_words` that takes a sentence as a parameter and prints the sentence with each word reversed, but the words are in the same order."
      ]
    },
    {
      "cell_type": "code",
      "execution_count": null,
      "metadata": {
        "colab": {
          "base_uri": "https://localhost:8080/",
          "height": 35
        },
        "id": "VsoALrbBnsjs",
        "outputId": "b60f6c7f-995f-4e94-b653-d9bb8b569f62"
      },
      "outputs": [
        {
          "output_type": "execute_result",
          "data": {
            "text/plain": [
              "'kciuQ nworb xof spmuj revo a yzal god'"
            ],
            "application/vnd.google.colaboratory.intrinsic+json": {
              "type": "string"
            }
          },
          "metadata": {},
          "execution_count": 27
        }
      ],
      "source": [
        "def reverse_words(sentence):\n",
        "    words = sentence.split()\n",
        "    reversed = \" \".join(word[::-1] for word in words)\n",
        "    return reversed\n",
        "\n",
        "reverse_words(\"Quick brown fox jumps over a lazy dog\")  # should print \"kciuQ nworb xof spmuj revo a yzal god\""
      ]
    }
  ],
  "metadata": {
    "colab": {
      "provenance": []
    },
    "kernelspec": {
      "display_name": "venv",
      "language": "python",
      "name": "python3"
    },
    "language_info": {
      "codemirror_mode": {
        "name": "ipython",
        "version": 3
      },
      "file_extension": ".py",
      "mimetype": "text/x-python",
      "name": "python",
      "nbconvert_exporter": "python",
      "pygments_lexer": "ipython3",
      "version": "3.9.6"
    }
  },
  "nbformat": 4,
  "nbformat_minor": 0
}