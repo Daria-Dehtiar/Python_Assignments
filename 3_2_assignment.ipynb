{
  "cells": [
    {
      "cell_type": "markdown",
      "metadata": {
        "id": "-89_Z_je0cfL"
      },
      "source": [
        "# Assignment 3.2\n",
        "\n",
        "> Replace all TODOs with your code.\n",
        ">\n",
        "> Do not change any other code and do not add/remove cells!"
      ]
    },
    {
      "cell_type": "markdown",
      "metadata": {
        "id": "w6E-GxTB0j4M"
      },
      "source": [
        "## Lists"
      ]
    },
    {
      "cell_type": "markdown",
      "metadata": {
        "id": "iEwuf_DP0cfM"
      },
      "source": [
        "### Task 1\n",
        "\n",
        "Let's recall the function `find_primes` from the previous assignment. Now, instead of printing the primes, let's append them to a list and return this list. Use for-loop for that.\n",
        "\n",
        "Function `is_prime` is given for your convenience."
      ]
    },
    {
      "cell_type": "code",
      "source": [
        "def is_prime(num):\n",
        "    if num == 1:\n",
        "        return False\n",
        "    if num <= 3:\n",
        "        return True\n",
        "\n",
        "    for d in range(2, int(num ** 0.5)+1):\n",
        "        if num % d == 0:\n",
        "            return False\n",
        "\n",
        "    return True"
      ],
      "metadata": {
        "id": "oHqrVITz6Hy9"
      },
      "execution_count": 3,
      "outputs": []
    },
    {
      "cell_type": "code",
      "execution_count": 7,
      "metadata": {
        "id": "IWVOCWxx0cfM",
        "tags": [
          "task_1"
        ],
        "colab": {
          "base_uri": "https://localhost:8080/"
        },
        "outputId": "066bfae0-0feb-4e3a-8b52-ba1d8f84fa4d"
      },
      "outputs": [
        {
          "output_type": "stream",
          "name": "stdout",
          "text": [
            "[2, 3, 5, 7, 11]\n"
          ]
        }
      ],
      "source": [
        "def find_primes(a, b):\n",
        "    primes = []\n",
        "    for num in range(a, b + 1):\n",
        "        if is_prime(num):\n",
        "            primes.append(num)\n",
        "    return primes\n",
        "\n",
        "print(find_primes(1, 11))  # should print [2, 3, 5, 7, 11]"
      ]
    },
    {
      "cell_type": "markdown",
      "metadata": {
        "id": "2z8HqsaK0cfN"
      },
      "source": [
        "### Task 2\n",
        "\n",
        "Everything's the same as in the previous task, but now use list comprehension instead of the for-loop to implement function `find_primes_2`.\n"
      ]
    },
    {
      "cell_type": "code",
      "execution_count": 8,
      "metadata": {
        "id": "kva_9ycA0cfN",
        "tags": [
          "task_2"
        ],
        "colab": {
          "base_uri": "https://localhost:8080/"
        },
        "outputId": "d3c3c7ad-8590-4810-cfd2-5eb54aed971c"
      },
      "outputs": [
        {
          "output_type": "stream",
          "name": "stdout",
          "text": [
            "[2, 3, 5, 7, 11]\n"
          ]
        }
      ],
      "source": [
        "def find_primes_2(a, b):\n",
        "    primes = [num for num in range(a, b + 1) if is_prime(num)]\n",
        "    return primes\n",
        "\n",
        "print(find_primes_2(1, 11))  # should print [2, 3, 5, 7, 11]"
      ]
    },
    {
      "cell_type": "markdown",
      "metadata": {
        "id": "IqjW7SGS0cfN"
      },
      "source": [
        "### Task 3\n",
        "\n",
        "Complete the slicing operator so that the resulting list contains only numbers on the odd indices of the original list."
      ]
    },
    {
      "cell_type": "code",
      "execution_count": null,
      "metadata": {
        "id": "p83RQvA40cfN",
        "tags": [
          "task_3"
        ],
        "colab": {
          "base_uri": "https://localhost:8080/"
        },
        "outputId": "87ce202e-98ef-4dba-fb73-f06bc901f926"
      },
      "outputs": [
        {
          "output_type": "stream",
          "name": "stdout",
          "text": [
            "[1, 3, 5, 7, 9]\n"
          ]
        }
      ],
      "source": [
        "list_in = [0, 1, 2, 3, 4, 5, 6, 7, 8, 9, 10]\n",
        "\n",
        "list_out = list_in[1::2]\n",
        "\n",
        "print(list_out)  # should print [1, 3, 5, 7, 9]"
      ]
    },
    {
      "cell_type": "markdown",
      "metadata": {
        "id": "fceBNTpUnip6"
      },
      "source": [
        "### Task 4\n",
        "\n",
        "Sort the list `unsorted_list` in the following order: even numbers should go first, followed by odd numbers.\n",
        "\n",
        "Let's start by implementing the `is_even` function and then using sort."
      ]
    },
    {
      "cell_type": "code",
      "execution_count": 12,
      "metadata": {
        "id": "VsoALrbBnsjs",
        "tags": [
          "task_4"
        ],
        "colab": {
          "base_uri": "https://localhost:8080/"
        },
        "outputId": "e4a52f52-b502-490d-96d0-9f8b07c558b9"
      },
      "outputs": [
        {
          "output_type": "stream",
          "name": "stdout",
          "text": [
            "[2, 4, 6, 1, 3, 5, 7]\n"
          ]
        }
      ],
      "source": [
        "def is_even(unsorted_list):\n",
        "    unsorted_list.sort(key=lambda x: (x % 2, x))\n",
        "    return unsorted_list\n",
        "\n",
        "unsorted_list = [1, 2, 3, 4, 5, 6, 7]\n",
        "\n",
        "print(is_even(unsorted_list))  # should print [2, 4, 6, 1, 3, 5, 7] or any other valid sorting"
      ]
    },
    {
      "cell_type": "markdown",
      "metadata": {
        "id": "lG5tPGor2ftj"
      },
      "source": [
        "### Task 5\n",
        "\n",
        "Everybody loves pixel art! What about you?\n",
        "\n",
        "You are given a terrain map where 0 means water and 1 means land. It is not a very user-friendly representation.\n",
        "Let's print the map to the console using a whitespace `' '` for water and `'X'` for land. Please also add a border with `-` for lines and `+` for corners.\n",
        "\n",
        "\n",
        "Do not assume the map to be always of size 4 by 4; it can be any rectangle."
      ]
    },
    {
      "cell_type": "code",
      "execution_count": 2,
      "metadata": {
        "tags": [
          "task_5"
        ],
        "id": "tIdkmRfF2ftj",
        "colab": {
          "base_uri": "https://localhost:8080/"
        },
        "outputId": "e67ded2f-75af-43f5-97c3-dab8e2ed9781"
      },
      "outputs": [
        {
          "output_type": "stream",
          "name": "stdout",
          "text": [
            "+----+\n",
            "|  XX|\n",
            "|   X|\n",
            "| XXX|\n",
            "|XXXX|\n",
            "+----+\n"
          ]
        }
      ],
      "source": [
        "terrain_map = [\n",
        "    [0, 0, 1, 1],\n",
        "    [0, 0, 0, 1],\n",
        "    [0, 1, 1, 1],\n",
        "    [1, 1, 1, 1]\n",
        "]\n",
        "\n",
        "print(\"+\" + \"-\" * len(terrain_map) + \"+\")\n",
        "\n",
        "def water_or_land(j):\n",
        "    return \" \" if j == 0 else \"X\"\n",
        "\n",
        "for i in terrain_map:\n",
        "    str = \"\".join(water_or_land(cell) for cell in i)\n",
        "    print(\"|\" + str + \"|\")\n",
        "\n",
        "print(\"+\" + \"-\" * len(terrain_map) + \"+\")\n",
        "\n",
        "# Your map should look something like this:\n",
        "# +----+\n",
        "# |  XX|\n",
        "# |   X|\n",
        "# | XXX|\n",
        "# |XXXX|\n",
        "# +----+"
      ]
    }
  ],
  "metadata": {
    "colab": {
      "provenance": [],
      "toc_visible": true
    },
    "kernelspec": {
      "display_name": "venv",
      "language": "python",
      "name": "python3"
    },
    "language_info": {
      "codemirror_mode": {
        "name": "ipython",
        "version": 3
      },
      "file_extension": ".py",
      "mimetype": "text/x-python",
      "name": "python",
      "nbconvert_exporter": "python",
      "pygments_lexer": "ipython3",
      "version": "3.11.5"
    },
    "orig_nbformat": 4
  },
  "nbformat": 4,
  "nbformat_minor": 0
}