{
  "cells": [
    {
      "cell_type": "markdown",
      "metadata": {
        "id": "ozOVKEIKm8aP"
      },
      "source": [
        "# Assignment 8.2\n",
        "\n",
        "> Replace all TODOs with your code.\n",
        ">\n",
        "> Do not change any other code and do not add/remove cells!"
      ]
    },
    {
      "cell_type": "markdown",
      "metadata": {
        "id": "GRPST61knD1_"
      },
      "source": [
        "## Inheritance"
      ]
    },
    {
      "cell_type": "markdown",
      "metadata": {
        "id": "TIeo4PGfnH_f"
      },
      "source": [
        "### Task 1\n",
        "\n",
        "Define a base class named `Account` to a general bank account.\n",
        "\n",
        "The class should include an initialization method (`__init__`), taking into account the number and holder name and methods for depositing money to the account and withdrawing from it. Do not forget to ensure that the account never has a negative balance.\n",
        "\n",
        "String representation (`__str__`) should be an abstract method (throw a corresponding error if it is called on the base `Account` class"
      ]
    },
    {
      "cell_type": "code",
      "execution_count": 10,
      "metadata": {
        "id": "es4kM6panjNB"
      },
      "outputs": [],
      "source": [
        "class Account:\n",
        "    def __init__(self, number: str, holder: str, initial_balance: float):\n",
        "      self.number = number\n",
        "      self.holder = holder\n",
        "      self.balance = initial_balance\n",
        "\n",
        "    def deposit(self, amount: float):\n",
        "      if amount > 0:\n",
        "          self.balance += amount\n",
        "          return self.balance\n",
        "      else:\n",
        "          return \"Invalid deposit amount. The amount must be grater than 0.\"\n",
        "\n",
        "    def withdraw(self, amount: float):\n",
        "      if not amount > 0 or not amount < self.balance:\n",
        "          return \"Invalid withdraw amount or insufficient funds. Cannot withdraw\"\n",
        "      self.balance -= amount\n",
        "      return self.balance\n",
        "\n",
        "\n",
        "    def __str__(self):\n",
        "      raise NotImplementedError\n"
      ]
    },
    {
      "cell_type": "markdown",
      "metadata": {
        "id": "4FjqIBbCnqh3"
      },
      "source": [
        "### Task 2\n",
        "\n",
        "Derive a `CurrentAccount` subclass from the `Account` base class and provide its own implementation for the `__str__` method. The text representation should mention the type of account, account number, and remaining balance."
      ]
    },
    {
      "cell_type": "code",
      "execution_count": 12,
      "metadata": {
        "id": "VNhS9FjCr-_k"
      },
      "outputs": [],
      "source": [
        "class CurrentAccount(Account):\n",
        "    account_type = \"Current account\"\n",
        "    def __str__(self):\n",
        "        return f\"Account type: {self.account_type}; account number: {self.number}; balance: {self.balance}\""
      ]
    },
    {
      "cell_type": "markdown",
      "metadata": {
        "id": "h-CdQzoOtjy6"
      },
      "source": [
        "### Task 3\n",
        "\n",
        "Derive a `SavingsAccount` subclass from the `Account` base class and provide its implementation for the `__str__` method. When initializing objects of this class, the caller must provide the `interest_rate` parameter.\n",
        "\n",
        " The text representation should mention the type of account, interest rate, account number, and remaining balance.\n",
        "\n",
        "Provide additional method `add_interest` that adds interest based on `interest_rate`:\n",
        "$$new\\_balance = old\\_balance + old\\_balance * interest\\_rate$$"
      ]
    },
    {
      "cell_type": "code",
      "execution_count": 13,
      "metadata": {
        "id": "akQXzV_vtweO"
      },
      "outputs": [],
      "source": [
        "class SavingsAccount(Account):\n",
        "    account_type = \"Savings account\"\n",
        "\n",
        "    def __init__(self, number: str, holder: str, initial_balance: float, interest_rate: float):\n",
        "        super().__init__(number, holder, initial_balance)\n",
        "        self.interest_rate = interest_rate\n",
        "\n",
        "    def add_interest(self):\n",
        "        self.balance = self.balance + self.balance * self.interest_rate\n",
        "        return self.balance\n",
        "\n",
        "    def __str__(self):\n",
        "        return f\"Account type: {self.account_type}; interest rate: {self.interest_rate}; account number: {self.number}; balance: {self.balance}\"\n"
      ]
    },
    {
      "cell_type": "markdown",
      "metadata": {
        "id": "724_WyJry8i9"
      },
      "source": [
        "### Task 4\n",
        "\n",
        "Create an array with different accounts, add/withdraw money from some of them, iterate over the array, and print the text representation of each."
      ]
    },
    {
      "cell_type": "code",
      "execution_count": 15,
      "metadata": {
        "id": "BDZA3L25zZEo",
        "colab": {
          "base_uri": "https://localhost:8080/"
        },
        "outputId": "f394903c-2209-43e1-ffbb-7e82a0c9ab27"
      },
      "outputs": [
        {
          "output_type": "stream",
          "name": "stdout",
          "text": [
            "Account type: Current account; account number: 6504876475938248; balance: 1730.92\n",
            "Account type: Current account; account number: 4948924115781567; balance: 1206.86\n",
            "Account type: Savings account; interest rate: 0.05; account number: 348778408016097; balance: 1172.3775\n",
            "Account type: Savings account; interest rate: 0.63; account number: 30535139332877; balance: 2152.7736\n"
          ]
        }
      ],
      "source": [
        "accounts = [\n",
        "    CurrentAccount(\"6504876475938248\", \"Katherine Fisher\", 1590.92),\n",
        "    CurrentAccount(\"4948924115781567\", \"Kyle Blair\", 1573.86),\n",
        "    SavingsAccount(\"348778408016097\", \"Mary Page\", 1116.55, 0.05),\n",
        "    SavingsAccount(\"30535139332877\", \"Kevin Carter\", 1320.72, 0.63)\n",
        "]\n",
        "\n",
        "accounts[0].deposit(140)\n",
        "accounts[1].withdraw(367)\n",
        "accounts[2].add_interest()\n",
        "accounts[3].add_interest()\n",
        "\n",
        "for account in accounts:\n",
        "    print(account)"
      ]
    }
  ],
  "metadata": {
    "colab": {
      "provenance": [],
      "toc_visible": true
    },
    "kernelspec": {
      "display_name": "Python 3",
      "name": "python3"
    },
    "language_info": {
      "name": "python"
    }
  },
  "nbformat": 4,
  "nbformat_minor": 0
}