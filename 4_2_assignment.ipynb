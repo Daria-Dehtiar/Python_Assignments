{
  "cells": [
    {
      "cell_type": "markdown",
      "metadata": {
        "id": "-89_Z_je0cfL"
      },
      "source": [
        "# Assignment 4.2\n",
        "\n",
        "> Replace all TODOs with your code.\n",
        ">\n",
        "> Do not change any other code and do not add/remove cells!"
      ]
    },
    {
      "cell_type": "code",
      "execution_count": 2,
      "metadata": {
        "id": "4Zt3Ez5bCm1Q"
      },
      "outputs": [],
      "source": [
        "# Do not edit this cell\n",
        "\n",
        "from typing import List, Tuple"
      ]
    },
    {
      "cell_type": "markdown",
      "metadata": {
        "id": "w6E-GxTB0j4M"
      },
      "source": [
        "## Complexity"
      ]
    },
    {
      "cell_type": "markdown",
      "metadata": {
        "id": "iEwuf_DP0cfM"
      },
      "source": [
        "### Task 1\n",
        "\n",
        "For example, let's take a simple problem - find a maximum element in an input list. We know that the list is sorted in ascending order.\n",
        "\n",
        "Write a function `find_max(li: List[int]) -> int` that would return a maximum element of a sorted list `li`. You can assume `li` to be non-empty. As a last command of your cell, print the complexity of your algorithm. It should be one of:\n",
        "\n",
        "`{O(1), O(log n), O(n), O(nlog n), O(n^2), O(2^n)}`.\n",
        "\n",
        "Note: do not use `max` built-in function."
      ]
    },
    {
      "cell_type": "code",
      "execution_count": 20,
      "metadata": {
        "id": "IWVOCWxx0cfM",
        "tags": [
          "task_1"
        ],
        "colab": {
          "base_uri": "https://localhost:8080/"
        },
        "outputId": "52053b18-455b-463f-980a-e2a80e617f33"
      },
      "outputs": [
        {
          "output_type": "stream",
          "name": "stdout",
          "text": [
            "Complexity of the algorithm: O(1)\n"
          ]
        }
      ],
      "source": [
        "def find_max(li: List[int]) -> int:\n",
        "    length = len(li)\n",
        "    last_value = li[length - 1]\n",
        "    return last_value\n",
        "\n",
        "test_list = [2, 4, 6, 8, 10]\n",
        "\n",
        "\n",
        "\n",
        "print('Complexity of the algorithm: O(1)') # We use indexing"
      ]
    },
    {
      "cell_type": "markdown",
      "metadata": {
        "id": "2z8HqsaK0cfN"
      },
      "source": [
        "### Task 2\n",
        "\n",
        "The same problem, now we don't know anything about the order in `li`. What's the complexity then? Print it as the last command of the cell.\n",
        "\n",
        "Note: do not use `max` built-in function.\n"
      ]
    },
    {
      "cell_type": "code",
      "execution_count": 21,
      "metadata": {
        "id": "kva_9ycA0cfN",
        "tags": [
          "task_2"
        ],
        "colab": {
          "base_uri": "https://localhost:8080/"
        },
        "outputId": "9c69c0e1-0484-4187-b562-badc2e402b61"
      },
      "outputs": [
        {
          "output_type": "stream",
          "name": "stdout",
          "text": [
            "Complexity of the algorithm: O(n)\n"
          ]
        }
      ],
      "source": [
        "def find_max(li: List[int]) -> int:\n",
        "    largest_so_far = None\n",
        "    for i in li:\n",
        "        if largest_so_far == None:\n",
        "            largest_so_far = i\n",
        "        elif i > largest_so_far:\n",
        "            largest_so_far = i\n",
        "    return largest_so_far\n",
        "\n",
        "test_list = [4, 7, 2, 9, 1]\n",
        "\n",
        "# It iterates over the entire list once, making a constant number of comparisons\n",
        "print('Complexity of the algorithm: O(n)')"
      ]
    },
    {
      "cell_type": "markdown",
      "metadata": {
        "id": "IqjW7SGS0cfN"
      },
      "source": [
        "### Task 3\n",
        "\n",
        "Now we are playing the guessing game! The user guesses the number between 1 and `n`, and your program makes guesses. If the guess is higher than the initial number, the user enters '<', if the number is lower - '>'. If the guess is correct, a user enters 'bingo'.\n",
        "\n",
        "Implement the program to play the game. As a last command of your cell, print the complexity of your algorithm (or the worst-case number of guesses your program needs to make before the correct guess). It should be one of:\n",
        "\n",
        "`{O(1), O(log n), O(n), O(nlog n), O(n^2), O(2^n)}`."
      ]
    },
    {
      "cell_type": "code",
      "execution_count": 37,
      "metadata": {
        "id": "p83RQvA40cfN",
        "tags": [
          "task_3"
        ],
        "colab": {
          "base_uri": "https://localhost:8080/"
        },
        "outputId": "f500221e-add1-4b60-f3b7-62203d3b701a"
      },
      "outputs": [
        {
          "output_type": "stream",
          "name": "stdout",
          "text": [
            "Let me think of a number between 1 and 100...\n",
            "Is this the number 50? Type '<' if lower, '>' if higher, 'bingo' if correct\n",
            ">\n",
            "Is this the number 75? Type '<' if lower, '>' if higher, 'bingo' if correct\n",
            ">\n",
            "Is this the number 88? Type '<' if lower, '>' if higher, 'bingo' if correct\n",
            ">\n",
            "Is this the number 94? Type '<' if lower, '>' if higher, 'bingo' if correct\n",
            "<\n",
            "Is this the number 91? Type '<' if lower, '>' if higher, 'bingo' if correct\n",
            "bingo\n",
            "Bingo! I guessed it right.\n",
            "Complexity of the algorithm: O(log n)\n"
          ]
        }
      ],
      "source": [
        "n = 100\n",
        "\n",
        "a = 1\n",
        "b = n\n",
        "\n",
        "def guess_the_number(n):\n",
        "    global a, b\n",
        "    guess = (a + b) // 2\n",
        "    while True:\n",
        "        print(f\"Is this the number {guess}? Type '<' if lower, '>' if higher, 'bingo' if correct\")\n",
        "        feedback = input().strip()\n",
        "\n",
        "        if feedback == \"bingo\":\n",
        "            print(\"Bingo! I guessed it right.\")\n",
        "            break\n",
        "\n",
        "        elif feedback == \"<\":\n",
        "            b = guess - 1\n",
        "\n",
        "        elif feedback == \">\":\n",
        "            a = guess + 1\n",
        "\n",
        "        guess = (a + b) // 2\n",
        "\n",
        "\n",
        "print(f\"Let me think of a number between {a} and {b}...\")\n",
        "\n",
        "guess_the_number(n)\n",
        "\n",
        "print(\"Complexity of the algorithm: O(log n)\") # Algorithm halves the search space\n"
      ]
    }
  ],
  "metadata": {
    "colab": {
      "provenance": [],
      "toc_visible": true
    },
    "kernelspec": {
      "display_name": "venv",
      "language": "python",
      "name": "python3"
    },
    "language_info": {
      "codemirror_mode": {
        "name": "ipython",
        "version": 3
      },
      "file_extension": ".py",
      "mimetype": "text/x-python",
      "name": "python",
      "nbconvert_exporter": "python",
      "pygments_lexer": "ipython3",
      "version": "3.11.5"
    },
    "orig_nbformat": 4
  },
  "nbformat": 4,
  "nbformat_minor": 0
}