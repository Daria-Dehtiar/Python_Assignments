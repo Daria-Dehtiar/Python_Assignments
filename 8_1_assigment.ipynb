{
  "cells": [
    {
      "cell_type": "markdown",
      "metadata": {
        "id": "2_R_Ya7UhcB8"
      },
      "source": [
        "# Assignment 8.1\n",
        "\n",
        "> Replace all TODOs with your code.\n",
        ">\n",
        "> Do not change any other code and do not add/remove cells!"
      ]
    },
    {
      "cell_type": "markdown",
      "metadata": {
        "id": "N1SWwMSshfVz"
      },
      "source": [
        "## Classes"
      ]
    },
    {
      "cell_type": "markdown",
      "metadata": {
        "id": "OY8NxJ-CiePg"
      },
      "source": [
        "### Task 1\n",
        "\n",
        "Define a Python class named `Interval` with the following specifications:\n",
        "\n",
        "1. The class should have a constructor (\\_\\_init__) that takes two parameters, start and end, and initializes the interval with these values.\n",
        "2. Ensure that both start and end are numeric (either integers or floats).\n",
        "3. Ensure that the start value is less than or equal to the end value.\n",
        "4. Provide a \\_\\_str__ method to return a string representation of the interval in the format \"[start, end]\"."
      ]
    },
    {
      "cell_type": "code",
      "execution_count": null,
      "metadata": {
        "id": "VBFmFWDXjQPT",
        "colab": {
          "base_uri": "https://localhost:8080/"
        },
        "outputId": "adaa9790-d452-4b54-f77e-0945df23b072"
      },
      "outputs": [
        {
          "output_type": "stream",
          "name": "stdout",
          "text": [
            "Interval: [1; 5]\n"
          ]
        }
      ],
      "source": [
        "class Interval:\n",
        "    def __init__(self, start, end):\n",
        "      if not isinstance(start, (int, float)):\n",
        "          return TypeError(\"The start value mast be numeric\")\n",
        "      if not isinstance(end, (int, float)):\n",
        "          return TypeError(\"The end value mast be numeric\")\n",
        "      if start > end:\n",
        "          return ValueError(\"The start value mast be less then the end value\")\n",
        "      self.start = start\n",
        "      self.end = end\n",
        "\n",
        "    def __str__(self):\n",
        "      return f\"Interval: [{self.start}; {self.end}]\"\n",
        "\n",
        "interval = Interval(1, 5)\n",
        "print(interval) # [1, 5]"
      ]
    },
    {
      "cell_type": "markdown",
      "metadata": {
        "id": "pJ72CYiylhIY"
      },
      "source": [
        "### Task 2\n",
        "\n",
        "Expand the Interval class by adding a method named `is_overlapping` that checks whether the current interval overlaps with another interval. The method should take another Interval object as a parameter and return `True` if there is an overlap and `False` otherwise."
      ]
    },
    {
      "cell_type": "code",
      "execution_count": null,
      "metadata": {
        "id": "7t64cfMdl3qe",
        "colab": {
          "base_uri": "https://localhost:8080/"
        },
        "outputId": "ef39ecb1-3f72-4cfd-829d-14733085a383"
      },
      "outputs": [
        {
          "output_type": "stream",
          "name": "stdout",
          "text": [
            "Do intervals overlap? True\n"
          ]
        }
      ],
      "source": [
        "class Interval:\n",
        "    def __init__(self, start, end):\n",
        "        if not isinstance(start, (int, float)):\n",
        "            return TypeError(\"The start value mast be numeric\")\n",
        "        if not isinstance(end, (int, float)):\n",
        "            return TypeError(\"The end value mast be numeric\")\n",
        "        if start > end:\n",
        "          return ValueError(\"The start value mast be less then the end value\")\n",
        "        self.start = start\n",
        "        self.end = end\n",
        "\n",
        "    def is_overlapping(self, other_interval):\n",
        "        return (self.start <= other_interval.end) and (other_interval.start <= self.end)\n",
        "\n",
        "interval1 = Interval(1, 5)\n",
        "interval2 = Interval(3, 8)\n",
        "\n",
        "overlap_result = interval1.is_overlapping(interval2)\n",
        "print(\"Do intervals overlap?\", overlap_result) # Do intervals overlap? True"
      ]
    },
    {
      "cell_type": "markdown",
      "metadata": {
        "id": "aelqtEfkni2N"
      },
      "source": [
        "### Task 3\n",
        "\n",
        "Expand the `Interval` class by adding a **static** method named `intersection_static` that calculates the intersection of two overlapping intervals. The static method should take two `Interval` objects as parameters and return a new `Interval` representing the intersection if there is one.\n",
        "\n",
        "The method should return `None` if the intervals do not overlap."
      ]
    },
    {
      "cell_type": "code",
      "execution_count": null,
      "metadata": {
        "id": "E6DNMmTRoyNa",
        "colab": {
          "base_uri": "https://localhost:8080/"
        },
        "outputId": "a84dc008-92ed-4a62-a423-be6d1cab9d9d"
      },
      "outputs": [
        {
          "output_type": "stream",
          "name": "stdout",
          "text": [
            "Intersection result (static method): [3, 5]\n"
          ]
        }
      ],
      "source": [
        "class Interval:\n",
        "    def __init__(self, start, end):\n",
        "        if not isinstance(start, (int, float)):\n",
        "            return TypeError(\"The start value mast be numeric\")\n",
        "        if not isinstance(end, (int, float)):\n",
        "            return TypeError(\"The end value mast be numeric\")\n",
        "        if start > end:\n",
        "          return ValueError(\"The start value mast be less then the end value\")\n",
        "        self.start = start\n",
        "        self.end = end\n",
        "\n",
        "    def is_overlapping(self, other_interval):\n",
        "        return (self.start <= other_interval.end) and (other_interval.start <= self.end)\n",
        "\n",
        "    def intersection_static(interval1, interval2):\n",
        "        if not interval1.is_overlapping(interval2):\n",
        "          return None\n",
        "        start = max(interval1.start, interval2.start)\n",
        "        end = min(interval1.end, interval2.end)\n",
        "        return f\"[{start}, {end}]\"\n",
        "\n",
        "interval1 = Interval(1, 5)\n",
        "interval2 = Interval(3, 8)\n",
        "\n",
        "intersection_result_static = Interval.intersection_static(interval1, interval2)\n",
        "print(\"Intersection result (static method):\", intersection_result_static) # Intersection result (static method): [3, 5]"
      ]
    },
    {
      "cell_type": "markdown",
      "metadata": {
        "id": "xGh7oQHFtsSl"
      },
      "source": [
        "### Task 4\n",
        "\n",
        "Expand the `Interval` class by overloading a math operator \"&\" to calculate the intersection of two overlapping intervals. Define the logic for the intersection using the method from the previous task."
      ]
    },
    {
      "cell_type": "code",
      "execution_count": null,
      "metadata": {
        "id": "3f3CiUlGu1cq",
        "colab": {
          "base_uri": "https://localhost:8080/"
        },
        "outputId": "0a67ab6c-5160-43d9-ee5f-2e11fa8f908a"
      },
      "outputs": [
        {
          "output_type": "stream",
          "name": "stdout",
          "text": [
            "Intersection result: [3, 5]\n"
          ]
        }
      ],
      "source": [
        "class Interval:\n",
        "    def __init__(self, start, end):\n",
        "        if not isinstance(start, (int, float)):\n",
        "            return TypeError(\"The start value mast be numeric\")\n",
        "        if not isinstance(end, (int, float)):\n",
        "            return TypeError(\"The end value mast be numeric\")\n",
        "        if start > end:\n",
        "          return ValueError(\"The start value mast be less then the end value\")\n",
        "        self.start = start\n",
        "        self.end = end\n",
        "\n",
        "    def is_overlapping(self, other_interval):\n",
        "        return (self.start <= other_interval.end) and (other_interval.start <= self.end)\n",
        "\n",
        "\n",
        "    def __and__(self, other_interval):\n",
        "        if not self.is_overlapping(other_interval):\n",
        "            return None\n",
        "        start = max(self.start, other_interval.start)\n",
        "        end = min(self.end, other_interval.end)\n",
        "        return f\"[{start}, {end}]\"\n",
        "\n",
        "interval1 = Interval(1, 5)\n",
        "interval2 = Interval(3, 8)\n",
        "\n",
        "intersection_result = interval1 & interval2\n",
        "print(\"Intersection result:\", intersection_result) # Intersection result: [3, 5]"
      ]
    },
    {
      "cell_type": "markdown",
      "metadata": {
        "id": "51BGij2Tvoka"
      },
      "source": [
        "### Task 5\n",
        "\n",
        "Expand the `Interval` class by adding a static method named `union_static` that calculates the union of two overlapping intervals. The static method should take two Interval objects as parameters and return a new Interval representing the union if there is one.\n",
        "\n",
        "The method should return `None` if the intervals do not overlap."
      ]
    },
    {
      "cell_type": "code",
      "execution_count": 4,
      "metadata": {
        "id": "Xnm1CbK8v2v1",
        "colab": {
          "base_uri": "https://localhost:8080/"
        },
        "outputId": "e9b61c5a-3cf9-46bc-d482-904c3c9e9d6b"
      },
      "outputs": [
        {
          "output_type": "stream",
          "name": "stdout",
          "text": [
            "Union Result (Static method): [1, 8]\n"
          ]
        }
      ],
      "source": [
        "class Interval:\n",
        "    def __init__(self, start, end):\n",
        "        if not isinstance(start, (int, float)):\n",
        "            return TypeError(\"The start value mast be numeric\")\n",
        "        if not isinstance(end, (int, float)):\n",
        "            return TypeError(\"The end value mast be numeric\")\n",
        "        if start > end:\n",
        "          return ValueError(\"The start value mast be less then the end value\")\n",
        "        self.start = start\n",
        "        self.end = end\n",
        "\n",
        "    def is_overlapping(self, other_interval):\n",
        "        return (self.start <= other_interval.end) and (other_interval.start <= self.end)\n",
        "\n",
        "    def union_static(interval1, interval2):\n",
        "        if not interval1.is_overlapping(interval2):\n",
        "            return None\n",
        "        start = min(interval1.start, interval2.start)\n",
        "        end = max(interval1.end, interval2.end)\n",
        "        return f\"[{start}, {end}]\"\n",
        "\n",
        "interval1 = Interval(1, 5)\n",
        "interval2 = Interval(3, 8)\n",
        "\n",
        "union_result_static = Interval.union_static(interval1, interval2)\n",
        "print(\"Union Result (Static method):\", union_result_static) # Union Result (Static method): [1, 8]"
      ]
    },
    {
      "cell_type": "markdown",
      "metadata": {
        "id": "5yGYlKjCwbzr"
      },
      "source": [
        "### Task 6\n",
        "\n",
        "Expand the `Interval` class by overloading a math operator \"|\" to calculate the union  of two overlapping intervals. Define the logic for the union using the method from the previous task."
      ]
    },
    {
      "cell_type": "code",
      "execution_count": 5,
      "metadata": {
        "id": "xjCgPAy5wu1Z",
        "colab": {
          "base_uri": "https://localhost:8080/"
        },
        "outputId": "964e2022-ba9c-400d-d5c4-9e06aaac1bd1"
      },
      "outputs": [
        {
          "output_type": "stream",
          "name": "stdout",
          "text": [
            "Union Result: [1, 8]\n"
          ]
        }
      ],
      "source": [
        "class Interval:\n",
        "    def __init__(self, start, end):\n",
        "        if not isinstance(start, (int, float)):\n",
        "            return TypeError(\"The start value mast be numeric\")\n",
        "        if not isinstance(end, (int, float)):\n",
        "            return TypeError(\"The end value mast be numeric\")\n",
        "        if start > end:\n",
        "          return ValueError(\"The start value mast be less then the end value\")\n",
        "        self.start = start\n",
        "        self.end = end\n",
        "\n",
        "    def is_overlapping(self, other_interval):\n",
        "        return (self.start <= other_interval.end) and (other_interval.start <= self.end)\n",
        "\n",
        "    def __or__(self, other_interval):\n",
        "        if not self.is_overlapping(other_interval):\n",
        "            return None\n",
        "        start = min(self.start, other_interval.start)\n",
        "        end = max(self.end, other_interval.end)\n",
        "        return f\"[{start}, {end}]\"\n",
        "\n",
        "interval1 = Interval(1, 5)\n",
        "interval2 = Interval(3, 8)\n",
        "\n",
        "union_result = interval1 | interval2\n",
        "print(\"Union Result:\", union_result) # Union Result: [1, 8]"
      ]
    },
    {
      "cell_type": "markdown",
      "metadata": {
        "id": "N-hiSBEK0fbz"
      },
      "source": [
        "### Task 7 (optional)\n",
        "\n",
        "Expand the `Interval` class by overloading the \"-\" operator to calculate the difference between two intervals. The method should return a new `Interval` representing the portion of the first interval that is not in the second."
      ]
    },
    {
      "cell_type": "code",
      "execution_count": 9,
      "metadata": {
        "id": "YZ5AqAXr002L",
        "colab": {
          "base_uri": "https://localhost:8080/"
        },
        "outputId": "11fdc528-b4ba-42cf-e895-10c8e480e257"
      },
      "outputs": [
        {
          "output_type": "stream",
          "name": "stdout",
          "text": [
            "Difference Result: [1, 2]\n",
            "Difference Result: [6, 8]\n"
          ]
        }
      ],
      "source": [
        "class Interval:\n",
        "    def __init__(self, start, end):\n",
        "        if not isinstance(start, (int, float)):\n",
        "            raise TypeError(\"The start value mast be numeric\")\n",
        "        if not isinstance(end, (int, float)):\n",
        "            raise TypeError(\"The end value mast be numeric\")\n",
        "        if start > end:\n",
        "            raise ValueError(\"The start value mast be less then the end value\")\n",
        "        self.start = start\n",
        "        self.end = end\n",
        "\n",
        "    def static_method(self, other_interval):\n",
        "        difference = []\n",
        "\n",
        "        elements1 = list(range(self.start, self.end +1))\n",
        "        elements2 = list(range(other_interval.start, other_interval.end + 1))\n",
        "        for element in elements1:\n",
        "            if element not in elements2:\n",
        "                difference.append(element)\n",
        "        return f\"[{min(difference)}, {max(difference)}]\"\n",
        "\n",
        "    def __sub__(self, other):\n",
        "        return self.static_method(other)\n",
        "interval1 = Interval(1, 5)\n",
        "interval2 = Interval(3, 8)\n",
        "\n",
        "print(\"Difference Result:\", interval1 - interval2) # Union Result: [1, 2]\n",
        "print(\"Difference Result:\", interval2 - interval1) # Union Result: [6, 8]"
      ]
    }
  ],
  "metadata": {
    "colab": {
      "provenance": []
    },
    "kernelspec": {
      "display_name": "Python 3",
      "name": "python3"
    },
    "language_info": {
      "name": "python"
    }
  },
  "nbformat": 4,
  "nbformat_minor": 0
}