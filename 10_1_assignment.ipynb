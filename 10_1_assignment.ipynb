{
  "cells": [
    {
      "cell_type": "markdown",
      "metadata": {
        "id": "oY7M_WqQy7zz"
      },
      "source": [
        "# Assignment 10.1\n",
        "\n",
        "> Replace all TODOs with your code. Do not change any other code."
      ]
    },
    {
      "cell_type": "code",
      "execution_count": 1,
      "metadata": {
        "id": "VCyU26bX_w89"
      },
      "outputs": [],
      "source": [
        "# Do not edit this cell\n",
        "\n",
        "import unittest\n",
        "import requests"
      ]
    },
    {
      "cell_type": "markdown",
      "metadata": {
        "id": "Jz8SYjAz0N8D"
      },
      "source": [
        "## Testing"
      ]
    },
    {
      "cell_type": "markdown",
      "metadata": {
        "id": "IHwd1Zzby7z1"
      },
      "source": [
        "### Task 1\n",
        "\n",
        "Let's consider the following function `calculate_average`:\n"
      ]
    },
    {
      "cell_type": "code",
      "execution_count": 12,
      "metadata": {
        "tags": [
          "task_1a"
        ],
        "id": "SH_LsE-E_w9E"
      },
      "outputs": [],
      "source": [
        "def calculate_average(numbers):\n",
        "    # if not numbers:\n",
        "        # raise ValueError(\"List cannot be empty\")\n",
        "    return sum(numbers) / len(numbers)\n"
      ]
    },
    {
      "cell_type": "markdown",
      "metadata": {
        "id": "kJ1fZtLM_w9F"
      },
      "source": [
        "Now, write tests for several cases:\n",
        "- A simple case when the result is a whole number\n",
        "- In cases where the result is decimal, how do you compare them?\n",
        "- Case when the list is empty - what happens? Is `ZeroDivisionError` really what we want here? Let's change the implementation to raise `ValueError`."
      ]
    },
    {
      "cell_type": "code",
      "execution_count": 13,
      "metadata": {
        "tags": [
          "task_1b"
        ],
        "id": "3S7nxpTx_w9G",
        "colab": {
          "base_uri": "https://localhost:8080/"
        },
        "outputId": "9ba9bf1a-832d-4ae5-9c69-6212caf2facb"
      },
      "outputs": [
        {
          "output_type": "stream",
          "name": "stderr",
          "text": [
            "...\n",
            "----------------------------------------------------------------------\n",
            "Ran 3 tests in 0.007s\n",
            "\n",
            "OK\n"
          ]
        },
        {
          "output_type": "execute_result",
          "data": {
            "text/plain": [
              "<unittest.main.TestProgram at 0x7a2f488bd180>"
            ]
          },
          "metadata": {},
          "execution_count": 13
        }
      ],
      "source": [
        "class TestCalculateAverage(unittest.TestCase):\n",
        "\n",
        "    def test_calculate_average_whole(self):\n",
        "        numbers = [1, 2, 3, 4, 5]\n",
        "        actual_result = calculate_average(numbers)\n",
        "        self.assertEqual(actual_result, 3)\n",
        "\n",
        "    def test_calculate_average_decimal(self):\n",
        "        numbers = [1.1, 2.2, 3.3, 4.4, 5.5]\n",
        "\n",
        "        expected_result = sum(numbers) / len(numbers)\n",
        "        actual_result = calculate_average(numbers)\n",
        "\n",
        "        self.assertEqual(actual_result, expected_result)\n",
        "\n",
        "    def test_calculate_average_empty(self):\n",
        "        with self.assertRaises(ValueError):\n",
        "            calculate_average([])\n",
        "\n",
        "\n",
        "# To run the tests:\n",
        "unittest.main(argv=[''], exit=False)"
      ]
    },
    {
      "cell_type": "markdown",
      "metadata": {
        "id": "lL-ELM-Ay7z2"
      },
      "source": [
        "### Task 2\n",
        "\n",
        "Let's consider function `get_weather`. It makes an external request to get the weather in a given city. Obviously, the weather constantly changes, so we cannot rely on it in our tests.\n",
        "\n",
        "Let's write a test replacing the real request with a mock. Check that the request was called with the correct city."
      ]
    },
    {
      "cell_type": "code",
      "execution_count": 15,
      "metadata": {
        "id": "cibiSsjry7z3",
        "tags": [
          "task_2a"
        ]
      },
      "outputs": [],
      "source": [
        "def get_weather(city):\n",
        "    try:\n",
        "        response = requests.get(f\"https://api.weather.com/v1/weather?q={city}\")\n",
        "        if response.status_code == 200:\n",
        "            return response.json()\n",
        "        else:\n",
        "            return None\n",
        "    except requests.exceptions.RequestException:\n",
        "        return None\n"
      ]
    },
    {
      "cell_type": "code",
      "execution_count": 16,
      "metadata": {
        "tags": [
          "task_2b"
        ],
        "id": "Nc9vokJu_w9K",
        "colab": {
          "base_uri": "https://localhost:8080/"
        },
        "outputId": "8b310fe5-7359-423e-ae64-606892d856f7"
      },
      "outputs": [
        {
          "output_type": "stream",
          "name": "stderr",
          "text": [
            "....\n",
            "----------------------------------------------------------------------\n",
            "Ran 4 tests in 0.013s\n",
            "\n",
            "OK\n"
          ]
        },
        {
          "output_type": "execute_result",
          "data": {
            "text/plain": [
              "<unittest.main.TestProgram at 0x7a2f629673a0>"
            ]
          },
          "metadata": {},
          "execution_count": 16
        }
      ],
      "source": [
        "from unittest.mock import Mock\n",
        "\n",
        "class TestGetWeather(unittest.TestCase):\n",
        "\n",
        "    def test_get_weatcher_request_made(self):\n",
        "        city = 'New York'\n",
        "        expected_url = f'https://api.weather.com/v1/weather?q={city}'\n",
        "\n",
        "        global requests\n",
        "        requests = Mock()\n",
        "\n",
        "        response_mock = Mock()\n",
        "        response_mock.status_code = 200\n",
        "        response_mock.json.return_value = {\"temperature\": 25, \"description\": \"sunny\"}\n",
        "\n",
        "        requests.get.return_value = response_mock\n",
        "\n",
        "        assert get_weather(city) == {\"temperature\": 25, \"description\": \"sunny\"}\n",
        "        requests.get.assert_called_once_with(expected_url)\n",
        "\n",
        "\n",
        "\n",
        "# To run the tests (note - it will run all defined tests):\n",
        "unittest.main(argv=[''], exit=False)"
      ]
    }
  ],
  "metadata": {
    "colab": {
      "provenance": [],
      "toc_visible": true
    },
    "kernelspec": {
      "display_name": "venv",
      "language": "python",
      "name": "python3"
    },
    "language_info": {
      "codemirror_mode": {
        "name": "ipython",
        "version": 3
      },
      "file_extension": ".py",
      "mimetype": "text/x-python",
      "name": "python",
      "nbconvert_exporter": "python",
      "pygments_lexer": "ipython3",
      "version": "3.11.5"
    },
    "orig_nbformat": 4
  },
  "nbformat": 4,
  "nbformat_minor": 0
}