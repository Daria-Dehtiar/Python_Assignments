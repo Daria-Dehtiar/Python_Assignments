{
  "cells": [
    {
      "cell_type": "markdown",
      "metadata": {
        "id": "-89_Z_je0cfL"
      },
      "source": [
        "# Assignment 4.1\n",
        "\n",
        "> Replace all TODOs with your code.\n",
        ">\n",
        "> Do not change any other code and do not add/remove cells!"
      ]
    },
    {
      "cell_type": "markdown",
      "metadata": {
        "id": "w6E-GxTB0j4M"
      },
      "source": [
        "## Sets"
      ]
    },
    {
      "cell_type": "markdown",
      "metadata": {
        "id": "iEwuf_DP0cfM"
      },
      "source": [
        "### Task 1\n",
        "\n",
        "Create an empty set called 'my_set'."
      ]
    },
    {
      "cell_type": "code",
      "execution_count": 1,
      "metadata": {
        "id": "IWVOCWxx0cfM",
        "tags": [
          "task_1"
        ],
        "colab": {
          "base_uri": "https://localhost:8080/"
        },
        "outputId": "2a79fe06-12c5-46ea-dc5c-14f6f801e6be"
      },
      "outputs": [
        {
          "output_type": "stream",
          "name": "stdout",
          "text": [
            "set()\n"
          ]
        }
      ],
      "source": [
        "my_set = set()\n",
        "\n",
        "print(my_set)  # should print set()"
      ]
    },
    {
      "cell_type": "markdown",
      "metadata": {
        "id": "2z8HqsaK0cfN"
      },
      "source": [
        "### Task 2\n",
        "\n",
        "Let's turn a given sentence into a set of words.\n"
      ]
    },
    {
      "cell_type": "code",
      "execution_count": 2,
      "metadata": {
        "id": "kva_9ycA0cfN",
        "tags": [
          "task_2"
        ],
        "colab": {
          "base_uri": "https://localhost:8080/"
        },
        "outputId": "3886fe22-5e00-4f07-ba88-7f37979706ff"
      },
      "outputs": [
        {
          "output_type": "stream",
          "name": "stdout",
          "text": [
            "{'acd', 'abc', 'cba'}\n"
          ]
        }
      ],
      "source": [
        "sentence = \"abc cba acd abc\"\n",
        "\n",
        "words = set(sentence.split())\n",
        "\n",
        "print(words)  # should be {'acd', 'cba', 'abc'} or in other order"
      ]
    },
    {
      "cell_type": "markdown",
      "metadata": {
        "id": "IqjW7SGS0cfN"
      },
      "source": [
        "### Task 3\n",
        "\n",
        "Now, let's remove from `words` all the words that are present in `sentence2`."
      ]
    },
    {
      "cell_type": "code",
      "execution_count": 6,
      "metadata": {
        "id": "p83RQvA40cfN",
        "tags": [
          "task_3"
        ],
        "colab": {
          "base_uri": "https://localhost:8080/"
        },
        "outputId": "e9055b6a-3281-42eb-fee9-0d4e4c166e44"
      },
      "outputs": [
        {
          "output_type": "stream",
          "name": "stdout",
          "text": [
            "{'acd', 'abc'}\n"
          ]
        }
      ],
      "source": [
        "sentence2 = 'cba baa acc'\n",
        "\n",
        "sentence2_set = set(sentence2.split())\n",
        "words = words.difference(sentence2_set)\n",
        "\n",
        "print(words)  # should print {'acd', 'abc'} or {'abc', 'acd'}"
      ]
    },
    {
      "cell_type": "markdown",
      "metadata": {
        "id": "fceBNTpUnip6"
      },
      "source": [
        "### Task 4\n",
        "\n",
        "Let's now play around with statistics and probability!\n",
        "\n",
        "Generate `N` random numbers in the range `[1, N]` and keep track of a percent of unique numbers in the result.\n",
        "Play around with different values of `N`; how does it affect the percentage of unique numbers? How do you think why?"
      ]
    },
    {
      "cell_type": "code",
      "execution_count": 9,
      "metadata": {
        "id": "VsoALrbBnsjs",
        "tags": [
          "task_4"
        ],
        "colab": {
          "base_uri": "https://localhost:8080/"
        },
        "outputId": "78c75e33-7258-4fe8-fb9b-1b62f617215f"
      },
      "outputs": [
        {
          "output_type": "stream",
          "name": "stdout",
          "text": [
            "63.203540000000004\n",
            "63.185199999999995\n",
            "63.046\n",
            "61.0\n",
            "80.0\n"
          ]
        }
      ],
      "source": [
        "from random import randint\n",
        "\n",
        "N = 10000000\n",
        "\n",
        "def percentage_of_unique_num(N):\n",
        "    list_of_numbers = []\n",
        "    for i in range(N):\n",
        "        a = randint(1, N)\n",
        "        list_of_numbers.append(a)\n",
        "    unique_numbers = set(list_of_numbers)\n",
        "    percentage = (len(unique_numbers) / N) * 100\n",
        "    return percentage\n",
        "\n",
        "print(percentage_of_unique_num(N))\n",
        "print(percentage_of_unique_num(1000000))\n",
        "print(percentage_of_unique_num(50000))\n",
        "print(percentage_of_unique_num(100))\n",
        "print(percentage_of_unique_num(5))"
      ]
    },
    {
      "cell_type": "markdown",
      "metadata": {
        "id": "i97oe-zR9xP_"
      },
      "source": [
        "For math geeks: if you set rather big `N`, you see that the percentage is slowly approaching ~63.21. It is a modification of a [Birthday problem](https://en.wikipedia.org/wiki/Birthday_problem), but a simpler and more relevant explanation is [here](https://math.stackexchange.com/questions/5775/how-many-bins-do-random-numbers-fill).\n"
      ]
    },
    {
      "cell_type": "markdown",
      "metadata": {
        "id": "MJ03abgc9xQA"
      },
      "source": [
        "## Dictionaries"
      ]
    },
    {
      "cell_type": "markdown",
      "metadata": {
        "id": "NYrbhOY19xQA"
      },
      "source": [
        "### Task 5\n",
        "\n",
        "You are given a matrix `m`. Return a distinct list containing all the values that are present in at least `n` rows.\n",
        "\n",
        "Hint: there can be duplicates in rows; perhaps we would want to eliminate them - how?"
      ]
    },
    {
      "cell_type": "code",
      "execution_count": 1,
      "metadata": {
        "id": "tBxoArVb9xQA",
        "colab": {
          "base_uri": "https://localhost:8080/"
        },
        "outputId": "7871c031-9639-4e06-8a6c-aaad0a4d34a3"
      },
      "outputs": [
        {
          "output_type": "stream",
          "name": "stdout",
          "text": [
            "[1, 2, 7]\n"
          ]
        }
      ],
      "source": [
        "m = [\n",
        "    [1, 1, 2, 3],\n",
        "    [1, 2, 6, 7],\n",
        "    [1, 7, 9, 9]\n",
        "]\n",
        "\n",
        "n = 2\n",
        "res = []\n",
        "\n",
        "def distinct_values_in_rows(m, n):\n",
        "    cleaned_rows = []\n",
        "    for row in m:\n",
        "        cleaned_row = list(set(row))\n",
        "        cleaned_rows.append(cleaned_row)\n",
        "\n",
        "    counts = {}\n",
        "    for row in cleaned_rows:\n",
        "        for value in row:\n",
        "            if value in counts:\n",
        "                counts[value] += 1\n",
        "            else:\n",
        "                counts[value] = 1\n",
        "\n",
        "    for value, count in counts.items():\n",
        "        if count >= n:\n",
        "            res.append(value)\n",
        "\n",
        "    return res\n",
        "\n",
        "\n",
        "res = distinct_values_in_rows(m, n)\n",
        "\n",
        "print(res)  # should print [1, 2, 7]"
      ]
    }
  ],
  "metadata": {
    "colab": {
      "provenance": [],
      "toc_visible": true
    },
    "kernelspec": {
      "display_name": "venv",
      "language": "python",
      "name": "python3"
    },
    "language_info": {
      "codemirror_mode": {
        "name": "ipython",
        "version": 3
      },
      "file_extension": ".py",
      "mimetype": "text/x-python",
      "name": "python",
      "nbconvert_exporter": "python",
      "pygments_lexer": "ipython3",
      "version": "3.11.5"
    },
    "orig_nbformat": 4
  },
  "nbformat": 4,
  "nbformat_minor": 0
}